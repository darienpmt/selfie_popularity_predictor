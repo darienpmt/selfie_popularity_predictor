{
 "cells": [
  {
   "cell_type": "code",
   "execution_count": 93,
   "metadata": {},
   "outputs": [],
   "source": [
    "import pandas as pd\n",
    "import numpy as np\n",
    "import pickle\n",
    "\n",
    "from helpers import load_photos, cv_scores\n",
    "\n",
    "from sklearn.decomposition import PCA\n",
    "from matplotlib import pyplot as plt\n",
    "import seaborn as sns"
   ]
  },
  {
   "cell_type": "code",
   "execution_count": 94,
   "metadata": {},
   "outputs": [],
   "source": [
    "from PIL import Image\n",
    "import cv2\n",
    "from mtcnn import MTCNN\n",
    "import tensorflow\n",
    "from fer import FER"
   ]
  },
  {
   "cell_type": "code",
   "execution_count": 95,
   "metadata": {},
   "outputs": [],
   "source": [
    "from sklearn.preprocessing import StandardScaler\n",
    "from sklearn.pipeline import make_pipeline\n",
    "from imblearn.pipeline import Pipeline\n",
    "from sklearn.dummy import DummyClassifier\n",
    "from sklearn.linear_model import LogisticRegression\n",
    "from sklearn.neighbors import KNeighborsClassifier\n",
    "from sklearn import svm, ensemble, linear_model, neighbors, naive_bayes\n",
    "from sklearn.model_selection import train_test_split, KFold, cross_val_score\n",
    "from sklearn.metrics import precision_score, recall_score, accuracy_score, roc_auc_score, roc_curve \n",
    "from sklearn.metrics import confusion_matrix, precision_recall_curve,f1_score, fbeta_score, log_loss\n",
    "from sklearn.naive_bayes import BernoulliNB, MultinomialNB, GaussianNB\n",
    "from sklearn import svm, metrics\n",
    "from sklearn.svm import SVC, LinearSVC\n",
    "from sklearn.ensemble import RandomForestClassifier, GradientBoostingClassifier, AdaBoostClassifier\n",
    "from sklearn.tree import DecisionTreeClassifier\n",
    "from imblearn.over_sampling import RandomOverSampler, SMOTE\n",
    "from imblearn.under_sampling import RandomUnderSampler\n",
    "from sklearn.model_selection import GridSearchCV\n",
    "from sklearn.feature_selection import SelectFromModel"
   ]
  },
  {
   "cell_type": "code",
   "execution_count": 96,
   "metadata": {},
   "outputs": [],
   "source": [
    "pd.options.display.max_columns = 999\n",
    "pd.options.display.max_rows = 999"
   ]
  },
  {
   "cell_type": "markdown",
   "metadata": {},
   "source": [
    "## Load the data"
   ]
  },
  {
   "cell_type": "markdown",
   "metadata": {},
   "source": [
    "### Image data"
   ]
  },
  {
   "cell_type": "code",
   "execution_count": 97,
   "metadata": {},
   "outputs": [],
   "source": [
    "images = load_photos('selfie_data/images', 128)"
   ]
  },
  {
   "cell_type": "markdown",
   "metadata": {},
   "source": [
    "## Non-Pixel Features"
   ]
  },
  {
   "cell_type": "code",
   "execution_count": 116,
   "metadata": {},
   "outputs": [],
   "source": [
    "file = 'selfie_data/selfie_dataset.txt'\n",
    "features = pd.read_csv(file, sep=' ', header=None)"
   ]
  },
  {
   "cell_type": "code",
   "execution_count": 99,
   "metadata": {},
   "outputs": [],
   "source": [
    "col_names_str = '''img_file popularity_score partial_faces is_female baby child teenager youth middle_age senior \n",
    "                    white black asian oval_face round_face heart_face smiling mouth_open frowning \n",
    "                    wearing_glasses wearing_sunglasses wearing_lipstick tongue_out duck_face \n",
    "                    black_hair blond_hair brown_hair red_hair curly_hair straight_hair braid_hair \n",
    "                    showing_cellphone using_earphone using_mirror braces wearing_hat harsh_lighting dim_lighting'''\n",
    "\n",
    "col_names = col_names_str.split()\n",
    "\n",
    "features.columns = col_names\n",
    "\n",
    "features.img_file = np.array(features.img_file) +'.jpg'"
   ]
  },
  {
   "cell_type": "code",
   "execution_count": 100,
   "metadata": {},
   "outputs": [],
   "source": [
    "features['is_popular'] = np.where(features.popularity_score < 4.5, 0, 1)"
   ]
  },
  {
   "cell_type": "code",
   "execution_count": 101,
   "metadata": {},
   "outputs": [],
   "source": [
    "features.replace(-1, int(0), inplace=True)"
   ]
  },
  {
   "cell_type": "code",
   "execution_count": 102,
   "metadata": {},
   "outputs": [
    {
     "data": {
      "text/html": [
       "<div>\n",
       "<style scoped>\n",
       "    .dataframe tbody tr th:only-of-type {\n",
       "        vertical-align: middle;\n",
       "    }\n",
       "\n",
       "    .dataframe tbody tr th {\n",
       "        vertical-align: top;\n",
       "    }\n",
       "\n",
       "    .dataframe thead th {\n",
       "        text-align: right;\n",
       "    }\n",
       "</style>\n",
       "<table border=\"1\" class=\"dataframe\">\n",
       "  <thead>\n",
       "    <tr style=\"text-align: right;\">\n",
       "      <th></th>\n",
       "      <th>popularity_score</th>\n",
       "      <th>partial_faces</th>\n",
       "      <th>is_female</th>\n",
       "      <th>baby</th>\n",
       "      <th>teenager</th>\n",
       "      <th>youth</th>\n",
       "      <th>middle_age</th>\n",
       "      <th>senior</th>\n",
       "      <th>white</th>\n",
       "      <th>black</th>\n",
       "      <th>asian</th>\n",
       "      <th>oval_face</th>\n",
       "      <th>round_face</th>\n",
       "      <th>heart_face</th>\n",
       "      <th>smiling</th>\n",
       "      <th>mouth_open</th>\n",
       "      <th>frowning</th>\n",
       "      <th>wearing_glasses</th>\n",
       "      <th>wearing_sunglasses</th>\n",
       "      <th>wearing_lipstick</th>\n",
       "      <th>tongue_out</th>\n",
       "      <th>duck_face</th>\n",
       "      <th>black_hair</th>\n",
       "      <th>blond_hair</th>\n",
       "      <th>brown_hair</th>\n",
       "      <th>red_hair</th>\n",
       "      <th>curly_hair</th>\n",
       "      <th>straight_hair</th>\n",
       "      <th>braid_hair</th>\n",
       "      <th>showing_cellphone</th>\n",
       "      <th>using_earphone</th>\n",
       "      <th>using_mirror</th>\n",
       "      <th>braces</th>\n",
       "      <th>wearing_hat</th>\n",
       "      <th>harsh_lighting</th>\n",
       "      <th>dim_lighting</th>\n",
       "    </tr>\n",
       "    <tr>\n",
       "      <th>is_popular</th>\n",
       "      <th></th>\n",
       "      <th></th>\n",
       "      <th></th>\n",
       "      <th></th>\n",
       "      <th></th>\n",
       "      <th></th>\n",
       "      <th></th>\n",
       "      <th></th>\n",
       "      <th></th>\n",
       "      <th></th>\n",
       "      <th></th>\n",
       "      <th></th>\n",
       "      <th></th>\n",
       "      <th></th>\n",
       "      <th></th>\n",
       "      <th></th>\n",
       "      <th></th>\n",
       "      <th></th>\n",
       "      <th></th>\n",
       "      <th></th>\n",
       "      <th></th>\n",
       "      <th></th>\n",
       "      <th></th>\n",
       "      <th></th>\n",
       "      <th></th>\n",
       "      <th></th>\n",
       "      <th></th>\n",
       "      <th></th>\n",
       "      <th></th>\n",
       "      <th></th>\n",
       "      <th></th>\n",
       "      <th></th>\n",
       "      <th></th>\n",
       "      <th></th>\n",
       "      <th></th>\n",
       "      <th></th>\n",
       "    </tr>\n",
       "  </thead>\n",
       "  <tbody>\n",
       "    <tr>\n",
       "      <th>0</th>\n",
       "      <td>3.979835</td>\n",
       "      <td>0.227931</td>\n",
       "      <td>0.683829</td>\n",
       "      <td>0.005329</td>\n",
       "      <td>0.136347</td>\n",
       "      <td>0.660162</td>\n",
       "      <td>0.025248</td>\n",
       "      <td>0.000331</td>\n",
       "      <td>0.550092</td>\n",
       "      <td>0.054429</td>\n",
       "      <td>0.059831</td>\n",
       "      <td>0.558986</td>\n",
       "      <td>0.133995</td>\n",
       "      <td>0.113451</td>\n",
       "      <td>0.242631</td>\n",
       "      <td>0.039471</td>\n",
       "      <td>0.010658</td>\n",
       "      <td>0.081514</td>\n",
       "      <td>0.058986</td>\n",
       "      <td>0.129070</td>\n",
       "      <td>0.017861</td>\n",
       "      <td>0.056928</td>\n",
       "      <td>0.190665</td>\n",
       "      <td>0.078795</td>\n",
       "      <td>0.321132</td>\n",
       "      <td>0.019294</td>\n",
       "      <td>0.181955</td>\n",
       "      <td>0.304851</td>\n",
       "      <td>0.008600</td>\n",
       "      <td>0.120470</td>\n",
       "      <td>0.026461</td>\n",
       "      <td>0.121316</td>\n",
       "      <td>0.008931</td>\n",
       "      <td>0.050827</td>\n",
       "      <td>0.060639</td>\n",
       "      <td>0.060639</td>\n",
       "    </tr>\n",
       "    <tr>\n",
       "      <th>1</th>\n",
       "      <td>4.920158</td>\n",
       "      <td>0.188016</td>\n",
       "      <td>0.766738</td>\n",
       "      <td>0.002599</td>\n",
       "      <td>0.130745</td>\n",
       "      <td>0.697085</td>\n",
       "      <td>0.022012</td>\n",
       "      <td>0.000357</td>\n",
       "      <td>0.563334</td>\n",
       "      <td>0.042800</td>\n",
       "      <td>0.076582</td>\n",
       "      <td>0.588403</td>\n",
       "      <td>0.131764</td>\n",
       "      <td>0.120351</td>\n",
       "      <td>0.285591</td>\n",
       "      <td>0.037960</td>\n",
       "      <td>0.008051</td>\n",
       "      <td>0.087435</td>\n",
       "      <td>0.074085</td>\n",
       "      <td>0.165699</td>\n",
       "      <td>0.017681</td>\n",
       "      <td>0.052634</td>\n",
       "      <td>0.183787</td>\n",
       "      <td>0.096250</td>\n",
       "      <td>0.341231</td>\n",
       "      <td>0.024916</td>\n",
       "      <td>0.213747</td>\n",
       "      <td>0.352644</td>\n",
       "      <td>0.010394</td>\n",
       "      <td>0.110924</td>\n",
       "      <td>0.028534</td>\n",
       "      <td>0.111128</td>\n",
       "      <td>0.012382</td>\n",
       "      <td>0.047488</td>\n",
       "      <td>0.047539</td>\n",
       "      <td>0.047539</td>\n",
       "    </tr>\n",
       "  </tbody>\n",
       "</table>\n",
       "</div>"
      ],
      "text/plain": [
       "            popularity_score  partial_faces  is_female      baby  teenager  \\\n",
       "is_popular                                                                   \n",
       "0                   3.979835       0.227931   0.683829  0.005329  0.136347   \n",
       "1                   4.920158       0.188016   0.766738  0.002599  0.130745   \n",
       "\n",
       "               youth  middle_age    senior     white     black     asian  \\\n",
       "is_popular                                                                 \n",
       "0           0.660162    0.025248  0.000331  0.550092  0.054429  0.059831   \n",
       "1           0.697085    0.022012  0.000357  0.563334  0.042800  0.076582   \n",
       "\n",
       "            oval_face  round_face  heart_face   smiling  mouth_open  frowning  \\\n",
       "is_popular                                                                      \n",
       "0            0.558986    0.133995    0.113451  0.242631    0.039471  0.010658   \n",
       "1            0.588403    0.131764    0.120351  0.285591    0.037960  0.008051   \n",
       "\n",
       "            wearing_glasses  wearing_sunglasses  wearing_lipstick  tongue_out  \\\n",
       "is_popular                                                                      \n",
       "0                  0.081514            0.058986          0.129070    0.017861   \n",
       "1                  0.087435            0.074085          0.165699    0.017681   \n",
       "\n",
       "            duck_face  black_hair  blond_hair  brown_hair  red_hair  \\\n",
       "is_popular                                                            \n",
       "0            0.056928    0.190665    0.078795    0.321132  0.019294   \n",
       "1            0.052634    0.183787    0.096250    0.341231  0.024916   \n",
       "\n",
       "            curly_hair  straight_hair  braid_hair  showing_cellphone  \\\n",
       "is_popular                                                             \n",
       "0             0.181955       0.304851    0.008600           0.120470   \n",
       "1             0.213747       0.352644    0.010394           0.110924   \n",
       "\n",
       "            using_earphone  using_mirror    braces  wearing_hat  \\\n",
       "is_popular                                                        \n",
       "0                 0.026461      0.121316  0.008931     0.050827   \n",
       "1                 0.028534      0.111128  0.012382     0.047488   \n",
       "\n",
       "            harsh_lighting  dim_lighting  \n",
       "is_popular                                \n",
       "0                 0.060639      0.060639  \n",
       "1                 0.047539      0.047539  "
      ]
     },
     "execution_count": 102,
     "metadata": {},
     "output_type": "execute_result"
    }
   ],
   "source": [
    "features.groupby('is_popular').mean()"
   ]
  },
  {
   "cell_type": "code",
   "execution_count": 103,
   "metadata": {},
   "outputs": [
    {
     "data": {
      "text/plain": [
       "(46836, 39)"
      ]
     },
     "execution_count": 103,
     "metadata": {},
     "output_type": "execute_result"
    }
   ],
   "source": [
    "features.shape"
   ]
  },
  {
   "cell_type": "markdown",
   "metadata": {},
   "source": [
    "## Merge the photos df with the non-photo features df"
   ]
  },
  {
   "cell_type": "code",
   "execution_count": 104,
   "metadata": {},
   "outputs": [],
   "source": [
    "df_all = images.merge(features, left_on='img_file', right_on='img_file')"
   ]
  },
  {
   "cell_type": "markdown",
   "metadata": {},
   "source": [
    "## Generate Emotion Features"
   ]
  },
  {
   "cell_type": "code",
   "execution_count": 115,
   "metadata": {},
   "outputs": [],
   "source": [
    "detector = FER()"
   ]
  },
  {
   "cell_type": "code",
   "execution_count": 106,
   "metadata": {},
   "outputs": [],
   "source": [
    "angry = lambda x: detector.detect_emotions(x)[0]['emotions']['angry'] if detector.detect_emotions(x) else np.nan\n",
    "happy = lambda x: detector.detect_emotions(x)[0]['emotions']['happy'] if detector.detect_emotions(x) else np.nan\n",
    "sad = lambda x: detector.detect_emotions(x)[0]['emotions']['sad'] if detector.detect_emotions(x) else np.nan\n",
    "surprise = lambda x: detector.detect_emotions(x)[0]['emotions']['surprise'] if detector.detect_emotions(x) else np.nan\n",
    "neutral = lambda x: detector.detect_emotions(x)[0]['emotions']['neutral'] if detector.detect_emotions(x) else np.nan"
   ]
  },
  {
   "cell_type": "code",
   "execution_count": 107,
   "metadata": {},
   "outputs": [],
   "source": [
    "df_all['angry'] = df_all.images.apply(angry)\n",
    "df_all['happy'] = df_all.images.apply(happy)\n",
    "df_all['sad'] = df_all.images.apply(sad)\n",
    "df_all['surprise'] = df_all.images.apply(surprise)\n",
    "df_all['neutral'] = df_all.images.apply(neutral)"
   ]
  },
  {
   "cell_type": "markdown",
   "metadata": {},
   "source": [
    "### Drop all photos for which emotion cannot be captured"
   ]
  },
  {
   "cell_type": "code",
   "execution_count": 108,
   "metadata": {},
   "outputs": [],
   "source": [
    "df_all.dropna(inplace=True)"
   ]
  },
  {
   "cell_type": "code",
   "execution_count": 109,
   "metadata": {},
   "outputs": [],
   "source": [
    "df_all.to_pickle('pickles/images_features_emotions_target.pkl')"
   ]
  },
  {
   "cell_type": "code",
   "execution_count": 110,
   "metadata": {},
   "outputs": [],
   "source": [
    "classifer_features = ['is_female', 'youth', 'smiling', 'angry', \n",
    "                          'happy', 'sad', 'surprise', 'neutral', 'is_popular']\n",
    "\n",
    "df = df_all[classifer_features]"
   ]
  },
  {
   "cell_type": "code",
   "execution_count": 111,
   "metadata": {},
   "outputs": [],
   "source": [
    "df.to_pickle('pickles/classifier_features.pkl')"
   ]
  },
  {
   "cell_type": "code",
   "execution_count": 113,
   "metadata": {},
   "outputs": [
    {
     "data": {
      "text/plain": [
       "0    9390\n",
       "1    8932\n",
       "Name: is_popular, dtype: int64"
      ]
     },
     "execution_count": 113,
     "metadata": {},
     "output_type": "execute_result"
    }
   ],
   "source": [
    "df.is_popular.value_counts()"
   ]
  },
  {
   "cell_type": "code",
   "execution_count": 6,
   "metadata": {},
   "outputs": [],
   "source": [
    "df_all = pd.read_pickle('pickles/images_features_emotions_target.pkl')\n",
    "df = pd.read_pickle('pickles/classifier_features.pkl')"
   ]
  },
  {
   "cell_type": "code",
   "execution_count": null,
   "metadata": {},
   "outputs": [],
   "source": []
  },
  {
   "cell_type": "markdown",
   "metadata": {},
   "source": [
    "## Claffification models"
   ]
  },
  {
   "cell_type": "code",
   "execution_count": 7,
   "metadata": {},
   "outputs": [],
   "source": [
    "X, y = df.drop('is_popular', axis=1), df.is_popular"
   ]
  },
  {
   "cell_type": "code",
   "execution_count": 8,
   "metadata": {},
   "outputs": [],
   "source": [
    "# pipelines in order to scale data\n",
    "log_pipe = make_pipeline(StandardScaler(), LogisticRegression(solver= 'liblinear'))\n",
    "knn_pipe = make_pipeline(StandardScaler(), KNeighborsClassifier(n_neighbors=5))\n",
    "\n",
    "# models that do not require scalling\n",
    "nbB = BernoulliNB()\n",
    "nbG = GaussianNB()\n",
    "rfc = RandomForestClassifier()\n",
    "gbc = GradientBoostingClassifier()\n",
    "\n",
    "models = {'Logistic':log_pipe, 'KNN': knn_pipe,  'NB Bernoulli': nbB, 'NB Gauss ':nbG, \n",
    "          'Random Forest':rfc, 'Gradient Boosting': gbc}\n",
    "\n",
    "scores = ['accuracy', 'precision', 'recall', 'f1', 'roc_auc']"
   ]
  },
  {
   "cell_type": "code",
   "execution_count": 40,
   "metadata": {},
   "outputs": [
    {
     "name": "stdout",
     "output_type": "stream",
     "text": [
      "Logistic\n",
      "accuracy 0.5594043785491813\n",
      "precision 0.5407225640225912\n",
      "recall 0.6277165638570079\n",
      "f1 0.5808957408435149\n",
      "roc_auc 0.5813185766992758\n",
      "\n",
      "\n",
      "KNN\n",
      "accuracy 0.5243114053941272\n",
      "precision 0.5117899929542862\n",
      "recall 0.48871309204030283\n",
      "f1 0.49982904049533106\n",
      "roc_auc 0.5312160645592487\n",
      "\n",
      "\n",
      "NB Bernoulli\n",
      "accuracy 0.54632066625943\n",
      "precision 0.5485019999355898\n",
      "recall 0.3827924235828724\n",
      "f1 0.45083220057355905\n",
      "roc_auc 0.5725973962229973\n",
      "\n",
      "\n",
      "NB Gauss \n",
      "accuracy 0.5506813674105022\n",
      "precision 0.5372378028669459\n",
      "recall 0.5529125038487264\n",
      "f1 0.5448008022017918\n",
      "roc_auc 0.5736698987186104\n",
      "\n",
      "\n",
      "Random Forest\n",
      "accuracy 0.5369959502567854\n",
      "precision 0.525007686269747\n",
      "recall 0.5020086636159979\n",
      "f1 0.517253925923525\n",
      "roc_auc 0.5406003040277441\n",
      "\n",
      "\n",
      "Gradient Boosting\n",
      "accuracy 0.5597051555669516\n",
      "precision 0.5445389636284238\n",
      "recall 0.5823782475288521\n",
      "f1 0.562630127987573\n",
      "roc_auc 0.5792100788147625\n",
      "\n",
      "\n"
     ]
    }
   ],
   "source": [
    "cv_scores(X, y, models, scores, 10)"
   ]
  },
  {
   "cell_type": "markdown",
   "metadata": {},
   "source": [
    "### Feature importance"
   ]
  },
  {
   "cell_type": "code",
   "execution_count": 9,
   "metadata": {},
   "outputs": [],
   "source": [
    "X, X_test, y, y_test = train_test_split(X, y, random_state=0)\n",
    "X_train, X_val, y_train, y_val = train_test_split(X, y, random_state=0)"
   ]
  },
  {
   "cell_type": "markdown",
   "metadata": {},
   "source": [
    "#### From logistic"
   ]
  },
  {
   "cell_type": "code",
   "execution_count": 10,
   "metadata": {},
   "outputs": [
    {
     "data": {
      "text/plain": [
       "[(0.46418711648079525, 'is_female'),\n",
       " (0.29787508478375047, 'surprise'),\n",
       " (0.18421380326588221, 'happy'),\n",
       " (0.08946342053828218, 'youth'),\n",
       " (0.001979732833450853, 'smiling'),\n",
       " (-0.015128401220833528, 'neutral'),\n",
       " (-0.033527820828105404, 'sad'),\n",
       " (-0.6960775163108052, 'angry')]"
      ]
     },
     "execution_count": 10,
     "metadata": {},
     "output_type": "execute_result"
    }
   ],
   "source": [
    "log = LogisticRegression()\n",
    "log.fit(X, y)\n",
    "\n",
    "log_importances = log.coef_[0]\n",
    "log_feature_importance = sorted(list(zip(log_importances, X.columns)), reverse=True)\n",
    "log_feature_importance"
   ]
  },
  {
   "cell_type": "code",
   "execution_count": 63,
   "metadata": {},
   "outputs": [
    {
     "data": {
      "text/plain": [
       "0.46418711648079525"
      ]
     },
     "execution_count": 63,
     "metadata": {},
     "output_type": "execute_result"
    }
   ],
   "source": [
    "max(log_feature_importance)[0]"
   ]
  },
  {
   "cell_type": "code",
   "execution_count": 68,
   "metadata": {},
   "outputs": [],
   "source": [
    "coef_impact =[abs(impact) for impact in map(lambda item: item[0]/max(log_feature_importance)[0], \n",
    "                                            log_feature_importance[:5])]"
   ]
  },
  {
   "cell_type": "code",
   "execution_count": 69,
   "metadata": {},
   "outputs": [
    {
     "data": {
      "text/plain": [
       "[1.0,\n",
       " 0.6417133828316288,\n",
       " 0.396852469026903,\n",
       " 0.19273137353863534,\n",
       " 0.0042649456720386175]"
      ]
     },
     "execution_count": 69,
     "metadata": {},
     "output_type": "execute_result"
    }
   ],
   "source": [
    "coef_impact"
   ]
  },
  {
   "cell_type": "code",
   "execution_count": 75,
   "metadata": {},
   "outputs": [
    {
     "data": {
      "image/png": "[encoded data removed]",
      "text/plain": [
       "<Figure size 720x432 with 1 Axes>"
      ]
     },
     "metadata": {},
     "output_type": "display_data"
    }
   ],
   "source": [
    "plt.figure(figsize=(10,6))\n",
    "sns.barplot(x=coef_impact, y=[item[1] for item in log_feature_importance[:5]], orient='h', color='b')\n",
    "plt.title('Impact relative to being female',weight='bold', size=20);"
   ]
  },
  {
   "cell_type": "code",
   "execution_count": 76,
   "metadata": {},
   "outputs": [
    {
     "data": {
      "image/png": "[encoded data removed]",
      "text/plain": [
       "<Figure size 720x432 with 1 Axes>"
      ]
     },
     "metadata": {},
     "output_type": "display_data"
    }
   ],
   "source": [
    "plt.figure(figsize=(10,6))\n",
    "sns.barplot(x=coef_impact, y= ['Female', 'Surprise', 'Happy', 'Youth', 'Smiling'], orient='h', color='b')\n",
    "plt.title('Impact relative to being female',weight='bold', size=20);"
   ]
  },
  {
   "cell_type": "markdown",
   "metadata": {},
   "source": [
    "#### From gradient boost"
   ]
  },
  {
   "cell_type": "code",
   "execution_count": 80,
   "metadata": {},
   "outputs": [
    {
     "data": {
      "text/plain": [
       "[(0.3360191092008619, 'is_female'),\n",
       " (0.22045890952655744, 'angry'),\n",
       " (0.11020811510175016, 'happy'),\n",
       " (0.10721569531110178, 'neutral'),\n",
       " (0.10346088732929559, 'sad'),\n",
       " (0.09114810401414015, 'surprise'),\n",
       " (0.023262418805818384, 'youth'),\n",
       " (0.008226760710474483, 'smiling')]"
      ]
     },
     "execution_count": 80,
     "metadata": {},
     "output_type": "execute_result"
    }
   ],
   "source": [
    "gbc = GradientBoostingClassifier()\n",
    "gbc.fit(X, y)\n",
    "\n",
    "gb_importances = list(gbc.feature_importances_)\n",
    "gb_feature_importance = sorted(list(zip(gb_importances, X.columns)), reverse=True)\n",
    "gb_feature_importance"
   ]
  },
  {
   "cell_type": "code",
   "execution_count": 81,
   "metadata": {},
   "outputs": [],
   "source": [
    "coef_impact =[abs(impact) for impact in map(lambda item: item[0]/max(gb_feature_importance)[0], \n",
    "                                            gb_feature_importance[:5])]"
   ]
  },
  {
   "cell_type": "code",
   "execution_count": 82,
   "metadata": {},
   "outputs": [
    {
     "data": {
      "image/png": "[encoded data removed]",
      "text/plain": [
       "<Figure size 720x432 with 1 Axes>"
      ]
     },
     "metadata": {},
     "output_type": "display_data"
    }
   ],
   "source": [
    "plt.figure(figsize=(10,6))\n",
    "sns.barplot(x=coef_impact, y=[item[1] for item in gb_feature_importance[:5]], orient='h', color='b')\n",
    "plt.title('Impact relative to being female',weight='bold', size=20);"
   ]
  },
  {
   "cell_type": "code",
   "execution_count": 83,
   "metadata": {},
   "outputs": [
    {
     "data": {
      "image/png": "[encoded data removed]",
      "text/plain": [
       "<Figure size 720x432 with 1 Axes>"
      ]
     },
     "metadata": {},
     "output_type": "display_data"
    }
   ],
   "source": [
    "plt.figure(figsize=(10,6))\n",
    "sns.barplot(x=coef_impact, y=['Female', 'Angry', 'Happy', 'Neutral', 'Sad'], orient='h', color='b')\n",
    "plt.title('Impact relative to being female',weight='bold', size=20);"
   ]
  },
  {
   "cell_type": "markdown",
   "metadata": {},
   "source": [
    "## Feature engineering"
   ]
  },
  {
   "cell_type": "code",
   "execution_count": 24,
   "metadata": {},
   "outputs": [],
   "source": [
    "df_fe = df.copy()"
   ]
  },
  {
   "cell_type": "code",
   "execution_count": 25,
   "metadata": {},
   "outputs": [
    {
     "name": "stderr",
     "output_type": "stream",
     "text": [
      "09-06-2020:16:45:18,998 INFO     [utils.py:141] NumExpr defaulting to 8 threads.\n"
     ]
    }
   ],
   "source": [
    "\n",
    "# bundling the emotions together\n",
    "df_fe['pos_emo'] = df_fe['happy'] + df_fe['surprise']\n",
    "df_fe['neg_emo'] = df_fe['sad'] + df_fe['angry']\n",
    "\n",
    "# see if young females are more popular (since females in general seem to be more popular)\n",
    "df_fe['young_f'] = df_fe['is_female'] + df_fe['youth']\n",
    "\n",
    "# making this field either young_f or not young_f\n",
    "df_fe['young_f'] = np.where(df_fe['young_f'] == 2, 1, 0)"
   ]
  },
  {
   "cell_type": "code",
   "execution_count": 14,
   "metadata": {},
   "outputs": [],
   "source": [
    "best_models = {'Logistic':log_pipe, 'Gradient Boosting': gbc}"
   ]
  },
  {
   "cell_type": "code",
   "execution_count": 15,
   "metadata": {},
   "outputs": [],
   "source": [
    "X, y = df_fe.drop('is_popular', axis=1), df_fe.is_popular\n",
    "\n",
    "X, X_test, y, y_test = train_test_split(X, y, random_state=0)"
   ]
  },
  {
   "cell_type": "code",
   "execution_count": 16,
   "metadata": {},
   "outputs": [
    {
     "name": "stdout",
     "output_type": "stream",
     "text": [
      "Logistic\n",
      "accuracy 0.5569824586784977\n",
      "precision 0.540221607284711\n",
      "recall 0.6110297461337543\n",
      "f1 0.5734042209464294\n",
      "roc_auc 0.5795758907118107\n",
      "\n",
      "\n",
      "Gradient Boosting\n",
      "accuracy 0.5588532680333931\n",
      "precision 0.5450473648729067\n",
      "recall 0.5742715673562959\n",
      "f1 0.5591889658911883\n",
      "roc_auc 0.578133504652264\n",
      "\n",
      "\n"
     ]
    }
   ],
   "source": [
    "cv_scores(X, y, best_models, scores, 10)"
   ]
  },
  {
   "cell_type": "code",
   "execution_count": null,
   "metadata": {},
   "outputs": [],
   "source": []
  },
  {
   "cell_type": "markdown",
   "metadata": {},
   "source": [
    "## PCA (on pixel data)"
   ]
  },
  {
   "cell_type": "code",
   "execution_count": 17,
   "metadata": {},
   "outputs": [],
   "source": [
    "X_pixels, y = df_all.images, df_all.is_popular\n",
    "X_pixels = np.array([x.flatten() for x in X_pixels])\n",
    "X_centered = X_pixels - X_pixels.mean()"
   ]
  },
  {
   "cell_type": "code",
   "execution_count": 18,
   "metadata": {},
   "outputs": [],
   "source": [
    "X_centered = X_centered/255"
   ]
  },
  {
   "cell_type": "code",
   "execution_count": 19,
   "metadata": {},
   "outputs": [
    {
     "data": {
      "text/plain": [
       "array([ 0.01316447,  0.00532134,  0.10728212, ..., -0.37507082,\n",
       "       -0.46134533, -0.32016886])"
      ]
     },
     "execution_count": 19,
     "metadata": {},
     "output_type": "execute_result"
    }
   ],
   "source": [
    "X_centered[0]"
   ]
  },
  {
   "cell_type": "code",
   "execution_count": 20,
   "metadata": {},
   "outputs": [
    {
     "data": {
      "text/plain": [
       "(19948, 67500)"
      ]
     },
     "execution_count": 20,
     "metadata": {},
     "output_type": "execute_result"
    }
   ],
   "source": [
    "X_centered.shape"
   ]
  },
  {
   "cell_type": "code",
   "execution_count": 21,
   "metadata": {},
   "outputs": [],
   "source": [
    "pca = PCA(n_components=300)\n",
    "pca.fit(X_centered)\n",
    "pcafeatures = pca.transform(X_centered)"
   ]
  },
  {
   "cell_type": "code",
   "execution_count": 28,
   "metadata": {},
   "outputs": [],
   "source": [
    "pd.DataFrame(pcafeatures).to_pickle('pickles/pca_features.pkl')"
   ]
  },
  {
   "cell_type": "code",
   "execution_count": 13,
   "metadata": {},
   "outputs": [],
   "source": [
    "pcafeatures = pd.read_pickle('pickles/pca_features.pkl')"
   ]
  },
  {
   "cell_type": "code",
   "execution_count": 21,
   "metadata": {},
   "outputs": [],
   "source": [
    "pcafeatures = pcafeatures.values"
   ]
  },
  {
   "cell_type": "code",
   "execution_count": 30,
   "metadata": {},
   "outputs": [
    {
     "data": {
      "image/png": "[encoded data removed]",
      "text/plain": [
       "<Figure size 432x288 with 1 Axes>"
      ]
     },
     "metadata": {
      "needs_background": "light"
     },
     "output_type": "display_data"
    }
   ],
   "source": [
    "plt.plot(pca.explained_variance_ratio_)\n",
    "plt.xlabel('# components')\n",
    "plt.ylabel('explained variance');\n",
    "plt.title('Scree plot for digits dataset');"
   ]
  },
  {
   "cell_type": "code",
   "execution_count": 31,
   "metadata": {},
   "outputs": [
    {
     "data": {
      "image/png": "[encoded data removed]",
      "text/plain": [
       "<Figure size 432x288 with 1 Axes>"
      ]
     },
     "metadata": {
      "needs_background": "light"
     },
     "output_type": "display_data"
    }
   ],
   "source": [
    "plt.plot(np.cumsum(pca.explained_variance_ratio_))\n",
    "plt.xlabel('# components')\n",
    "plt.ylabel('cumulative explained variance');\n",
    "plt.title('Cumulative explained variance by PCA for digits');"
   ]
  },
  {
   "cell_type": "code",
   "execution_count": 22,
   "metadata": {},
   "outputs": [],
   "source": [
    "reduced_pca_features = pcafeatures[:, :30]"
   ]
  },
  {
   "cell_type": "markdown",
   "metadata": {},
   "source": [
    "## Classification on PCA features"
   ]
  },
  {
   "cell_type": "code",
   "execution_count": 27,
   "metadata": {},
   "outputs": [],
   "source": [
    "X, y = reduced_pca_features, df_fe.is_popular"
   ]
  },
  {
   "cell_type": "code",
   "execution_count": 28,
   "metadata": {},
   "outputs": [
    {
     "data": {
      "text/plain": [
       "(19948, 30)"
      ]
     },
     "execution_count": 28,
     "metadata": {},
     "output_type": "execute_result"
    }
   ],
   "source": [
    "X.shape"
   ]
  },
  {
   "cell_type": "code",
   "execution_count": 29,
   "metadata": {},
   "outputs": [],
   "source": [
    "X, X_test, y, y_test = train_test_split(X, y, random_state=0)"
   ]
  },
  {
   "cell_type": "code",
   "execution_count": 41,
   "metadata": {},
   "outputs": [
    {
     "name": "stdout",
     "output_type": "stream",
     "text": [
      "Logistic\n",
      "accuracy 0.6141976912827437\n",
      "precision 0.6186710866866292\n",
      "recall 0.5442339853806114\n",
      "f1 0.5789526282561246\n",
      "roc_auc 0.6570946886207143\n",
      "\n",
      "\n",
      "KNN\n",
      "accuracy 0.6089832963609929\n",
      "precision 0.6052800803272004\n",
      "recall 0.5675468365371967\n",
      "f1 0.5856585721671503\n",
      "roc_auc 0.6517587989780546\n",
      "\n",
      "\n",
      "NB Bernoulli\n",
      "accuracy 0.5911379800599416\n",
      "precision 0.5872833401403442\n",
      "recall 0.542586579476483\n",
      "f1 0.5639625824533196\n",
      "roc_auc 0.6268945807697538\n",
      "\n",
      "\n",
      "NB Gauss \n",
      "accuracy 0.6242898899403084\n",
      "precision 0.6333279661866907\n",
      "recall 0.5447808031268202\n",
      "f1 0.5855794582149991\n",
      "roc_auc 0.6781933209969395\n",
      "\n",
      "\n",
      "Random Forest\n",
      "accuracy 0.6437422081239127\n",
      "precision 0.6496908177528496\n",
      "recall 0.5816754044760133\n",
      "f1 0.6121633133157603\n",
      "roc_auc 0.7061062301091452\n",
      "\n",
      "\n",
      "Gradient Boosting\n",
      "accuracy 0.6387936746934154\n",
      "precision 0.6533971412394288\n",
      "recall 0.5517729297029146\n",
      "f1 0.597994497619182\n",
      "roc_auc 0.7025124545417952\n",
      "\n",
      "\n"
     ]
    }
   ],
   "source": [
    "cv_scores(X, y, models, scores, 10)"
   ]
  },
  {
   "cell_type": "code",
   "execution_count": 30,
   "metadata": {},
   "outputs": [],
   "source": [
    "df_fe.reset_index(inplace=True)"
   ]
  },
  {
   "cell_type": "code",
   "execution_count": 31,
   "metadata": {},
   "outputs": [],
   "source": [
    "all_features = pd.concat([df_fe, pd.DataFrame(reduced_pca_features)], axis=1)"
   ]
  },
  {
   "cell_type": "code",
   "execution_count": 37,
   "metadata": {},
   "outputs": [],
   "source": [
    "all_features.drop('index', axis=1, inplace=True)"
   ]
  },
  {
   "cell_type": "code",
   "execution_count": 39,
   "metadata": {},
   "outputs": [],
   "source": [
    "X, y = all_features.drop('is_popular', axis=1), all_features.is_popular"
   ]
  },
  {
   "cell_type": "code",
   "execution_count": 41,
   "metadata": {},
   "outputs": [],
   "source": [
    "adc = AdaBoostClassifier()\n",
    "\n",
    "best_models = {'Random Forest' :rfc, 'Gradient Boosting': gbc, 'AdaBoost': adc}"
   ]
  },
  {
   "cell_type": "code",
   "execution_count": 114,
   "metadata": {},
   "outputs": [
    {
     "name": "stdout",
     "output_type": "stream",
     "text": [
      "Random Forest\n",
      "accuracy 0.6409160815780675\n",
      "precision 0.6554969653347462\n",
      "recall 0.5709435484727191\n",
      "f1 0.6117941681400939\n",
      "roc_auc 0.7078859140085361\n",
      "\n",
      "\n",
      "Gradient Boosting\n",
      "accuracy 0.6431218467432374\n",
      "precision 0.6507418309834561\n",
      "recall 0.5751683353329016\n",
      "f1 0.6105776663389262\n",
      "roc_auc 0.7090350592523417\n",
      "\n",
      "\n",
      "AdaBoost\n",
      "accuracy 0.6263786849269615\n",
      "precision 0.6273687620786262\n",
      "recall 0.5719712911548303\n",
      "f1 0.5983460594228868\n",
      "roc_auc 0.6791375120938299\n",
      "\n",
      "\n"
     ]
    }
   ],
   "source": [
    "cv_scores(X, y, best_models, scores, 10)"
   ]
  },
  {
   "cell_type": "code",
   "execution_count": 42,
   "metadata": {},
   "outputs": [],
   "source": [
    "X, X_test, y, y_test = train_test_split(X, y, random_state=0)"
   ]
  },
  {
   "cell_type": "code",
   "execution_count": 43,
   "metadata": {},
   "outputs": [
    {
     "data": {
      "text/plain": [
       "[(0.2817377787049635, 0),\n",
       " (0.07759376085431548, 2),\n",
       " (0.07649702603806958, 10),\n",
       " (0.07518168110743731, 4),\n",
       " (0.054915024259899366, 11),\n",
       " (0.049115078464164554, 1),\n",
       " (0.0436950524859917, 'is_female'),\n",
       " (0.03447766212831023, 5),\n",
       " (0.02447848199085868, 7),\n",
       " (0.022814970018927, 23),\n",
       " (0.02252216958882998, 16),\n",
       " (0.0196377676900307, 9),\n",
       " (0.019187250122796658, 18),\n",
       " (0.018364172977144228, 24),\n",
       " (0.016860345744786683, 29),\n",
       " (0.016023749474134978, 'angry'),\n",
       " (0.014603289002640116, 19),\n",
       " (0.012392503534443478, 21),\n",
       " (0.011443694683187466, 15),\n",
       " (0.01118533715897626, 14),\n",
       " (0.0109404082583967, 17),\n",
       " (0.010699342868339023, 3),\n",
       " (0.008944098869751753, 8),\n",
       " (0.007470298836545542, 'sad'),\n",
       " (0.007073205178795586, 22),\n",
       " (0.006900780609607299, 13),\n",
       " (0.006811314515068546, 27),\n",
       " (0.006153959944983577, 26),\n",
       " (0.005999711585998249, 25),\n",
       " (0.005956930299812262, 'pos_emo'),\n",
       " (0.005896771110978023, 28),\n",
       " (0.003933954274991787, 20),\n",
       " (0.0031271249428811983, 'young_f'),\n",
       " (0.0024183827116243963, 6),\n",
       " (0.001605604220992037, 12),\n",
       " (0.001580776114344797, 'neg_emo'),\n",
       " (0.0006701151802838501, 'surprise'),\n",
       " (0.000661573968737247, 'neutral'),\n",
       " (0.00042728129920235956, 'happy'),\n",
       " (1.5691787579289894e-06, 'smiling'),\n",
       " (0.0, 'youth')]"
      ]
     },
     "execution_count": 43,
     "metadata": {},
     "output_type": "execute_result"
    }
   ],
   "source": [
    "gbc = GradientBoostingClassifier()\n",
    "gbc.fit(X, y)\n",
    "\n",
    "gb_importances = list(gbc.feature_importances_)\n",
    "gb_feature_importance = sorted(list(zip(gb_importances, X.columns)), reverse=True)\n",
    "gb_feature_importance"
   ]
  },
  {
   "cell_type": "code",
   "execution_count": 46,
   "metadata": {},
   "outputs": [
    {
     "data": {
      "text/plain": [
       "[(0.0661154177974323, 0),\n",
       " (0.034930391752635744, 2),\n",
       " (0.03435700190942199, 4),\n",
       " (0.033489869878238356, 10),\n",
       " (0.032641957186445164, 11),\n",
       " (0.0310064861982807, 1),\n",
       " (0.03084723730361405, 5),\n",
       " (0.02891537718726354, 7),\n",
       " (0.028824950216706866, 24),\n",
       " (0.028629140597479768, 9),\n",
       " (0.028141610559504784, 19),\n",
       " (0.02782120743390068, 18),\n",
       " (0.027533325701747748, 29),\n",
       " (0.027187803364685077, 16),\n",
       " (0.027098240474227858, 15),\n",
       " (0.02709031746602333, 23),\n",
       " (0.026654978963034783, 14),\n",
       " (0.026412504529923626, 21),\n",
       " (0.026314839086430845, 25),\n",
       " (0.026011799108638253, 27),\n",
       " (0.025804233996505593, 8),\n",
       " (0.02566653017707172, 3),\n",
       " (0.025489502776066146, 13),\n",
       " (0.025456623371475178, 26),\n",
       " (0.025217098228247654, 12),\n",
       " (0.025006750064398245, 28),\n",
       " (0.024828703955849143, 20),\n",
       " (0.024731245830442845, 22),\n",
       " (0.024621887158719304, 17),\n",
       " (0.024454154935043562, 6),\n",
       " (0.018752479249272227, 'neutral'),\n",
       " (0.01791937421945832, 'pos_emo'),\n",
       " (0.016999792129751657, 'happy'),\n",
       " (0.01639368733177965, 'neg_emo'),\n",
       " (0.015747895234835736, 'angry'),\n",
       " (0.01496921829243695, 'sad'),\n",
       " (0.010616322797606947, 'surprise'),\n",
       " (0.007392816640803931, 'is_female'),\n",
       " (0.004929320045294852, 'young_f'),\n",
       " (0.002581337042494288, 'youth'),\n",
       " (0.0023965698068107617, 'smiling')]"
      ]
     },
     "execution_count": 46,
     "metadata": {},
     "output_type": "execute_result"
    }
   ],
   "source": [
    "rfc = RandomForestClassifier()\n",
    "rfc.fit(X, y)\n",
    "\n",
    "rf_importances = list(rfc.feature_importances_)\n",
    "rf_feature_importance = sorted(list(zip(rf_importances, X.columns)), reverse=True)\n",
    "rf_feature_importance"
   ]
  },
  {
   "cell_type": "code",
   "execution_count": 48,
   "metadata": {},
   "outputs": [],
   "source": [
    "adc = AdaBoostClassifier()\n",
    "adc.fit(X, y)\n",
    "\n",
    "ab_importances = list(adc.feature_importances_)\n"
   ]
  },
  {
   "cell_type": "code",
   "execution_count": 53,
   "metadata": {},
   "outputs": [
    {
     "data": {
      "text/plain": [
       "[(0.04, 'is_female'),\n",
       " (0.0, 'youth'),\n",
       " (0.0, 'smiling'),\n",
       " (0.02, 'angry'),\n",
       " (0.0, 'happy'),\n",
       " (0.02, 'sad'),\n",
       " (0.0, 'surprise'),\n",
       " (0.0, 'neutral'),\n",
       " (0.02, 'pos_emo'),\n",
       " (0.0, 'neg_emo'),\n",
       " (0.0, 'young_f'),\n",
       " (0.1, 0),\n",
       " (0.04, 1),\n",
       " (0.06, 2),\n",
       " (0.02, 3),\n",
       " (0.1, 4),\n",
       " (0.02, 5),\n",
       " (0.0, 6),\n",
       " (0.02, 7),\n",
       " (0.0, 8),\n",
       " (0.02, 9),\n",
       " (0.08, 10),\n",
       " (0.04, 11),\n",
       " (0.0, 12),\n",
       " (0.02, 13),\n",
       " (0.04, 14),\n",
       " (0.02, 15),\n",
       " (0.02, 16),\n",
       " (0.04, 17),\n",
       " (0.02, 18),\n",
       " (0.04, 19),\n",
       " (0.0, 20),\n",
       " (0.04, 21),\n",
       " (0.02, 22),\n",
       " (0.02, 23),\n",
       " (0.02, 24),\n",
       " (0.0, 25),\n",
       " (0.02, 26),\n",
       " (0.02, 27),\n",
       " (0.0, 28),\n",
       " (0.06, 29)]"
      ]
     },
     "execution_count": 53,
     "metadata": {},
     "output_type": "execute_result"
    }
   ],
   "source": [
    "list(zip(ab_importances, X.columns))"
   ]
  },
  {
   "cell_type": "code",
   "execution_count": null,
   "metadata": {},
   "outputs": [],
   "source": []
  }
 ],
 "metadata": {
  "kernelspec": {
   "display_name": "Python [conda env:metis] *",
   "language": "python",
   "name": "conda-env-metis-py"
  },
  "language_info": {
   "codemirror_mode": {
    "name": "ipython",
    "version": 3
   },
   "file_extension": ".py",
   "mimetype": "text/x-python",
   "name": "python",
   "nbconvert_exporter": "python",
   "pygments_lexer": "ipython3",
   "version": "3.7.7"
  },
  "toc": {
   "base_numbering": 1,
   "nav_menu": {},
   "number_sections": true,
   "sideBar": true,
   "skip_h1_title": false,
   "title_cell": "Table of Contents",
   "title_sidebar": "Contents",
   "toc_cell": false,
   "toc_position": {},
   "toc_section_display": true,
   "toc_window_display": false
  }
 },
 "nbformat": 4,
 "nbformat_minor": 4
}
